{
 "cells": [
  {
   "cell_type": "markdown",
   "metadata": {},
   "source": [
    "# Softmax exercise\n",
    "\n",
    "*Complete and hand in this completed worksheet (including its outputs and any supporting code outside of the worksheet) with your assignment submission. For more details see the [assignments page](http://vision.stanford.edu/teaching/cs231n/assignments.html) on the course website.*\n",
    "\n",
    "This exercise is analogous to the SVM exercise. You will:\n",
    "\n",
    "- implement a fully-vectorized **loss function** for the Softmax classifier\n",
    "- implement the fully-vectorized expression for its **analytic gradient**\n",
    "- **check your implementation** with numerical gradient\n",
    "- use a validation set to **tune the learning rate and regularization** strength\n",
    "- **optimize** the loss function with **SGD**\n",
    "- **visualize** the final learned weights\n"
   ]
  },
  {
   "cell_type": "code",
   "execution_count": 16,
   "metadata": {},
   "outputs": [
    {
     "name": "stdout",
     "output_type": "stream",
     "text": [
      "The autoreload extension is already loaded. To reload it, use:\n",
      "  %reload_ext autoreload\n"
     ]
    }
   ],
   "source": [
    "import random\n",
    "import numpy as np\n",
    "from cs231n.data_utils import load_CIFAR10\n",
    "import matplotlib.pyplot as plt\n",
    "\n",
    "from __future__ import print_function\n",
    "\n",
    "%matplotlib inline\n",
    "plt.rcParams['figure.figsize'] = (10.0, 8.0) # set default size of plots\n",
    "plt.rcParams['image.interpolation'] = 'nearest'\n",
    "plt.rcParams['image.cmap'] = 'gray'\n",
    "\n",
    "# for auto-reloading extenrnal modules\n",
    "# see http://stackoverflow.com/questions/1907993/autoreload-of-modules-in-ipython\n",
    "%load_ext autoreload\n",
    "%autoreload 2"
   ]
  },
  {
   "cell_type": "code",
   "execution_count": 17,
   "metadata": {},
   "outputs": [
    {
     "name": "stdout",
     "output_type": "stream",
     "text": [
      "Train data shape:  (49000, 3073)\n",
      "Train labels shape:  (49000,)\n",
      "Validation data shape:  (1000, 3073)\n",
      "Validation labels shape:  (1000,)\n",
      "Test data shape:  (1000, 3073)\n",
      "Test labels shape:  (1000,)\n",
      "dev data shape:  (500, 3073)\n",
      "dev labels shape:  (500,)\n"
     ]
    }
   ],
   "source": [
    "def get_CIFAR10_data(num_training=49000, num_validation=1000, num_test=1000, num_dev=500):\n",
    "    \"\"\"\n",
    "    Load the CIFAR-10 dataset from disk and perform preprocessing to prepare\n",
    "    it for the linear classifier. These are the same steps as we used for the\n",
    "    SVM, but condensed to a single function.  \n",
    "    \"\"\"\n",
    "    # Load the raw CIFAR-10 data\n",
    "    cifar10_dir = 'cs231n/datasets/cifar-10-batches-py'\n",
    "    X_train, y_train, X_test, y_test = load_CIFAR10(cifar10_dir)\n",
    "    \n",
    "    # subsample the data\n",
    "    mask = list(range(num_training, num_training + num_validation))\n",
    "    X_val = X_train[mask]\n",
    "    y_val = y_train[mask]\n",
    "    mask = list(range(num_training))\n",
    "    X_train = X_train[mask]\n",
    "    y_train = y_train[mask]\n",
    "    mask = list(range(num_test))\n",
    "    X_test = X_test[mask]\n",
    "    y_test = y_test[mask]\n",
    "    mask = np.random.choice(num_training, num_dev, replace=False)\n",
    "    X_dev = X_train[mask]\n",
    "    y_dev = y_train[mask]\n",
    "    \n",
    "    # Preprocessing: reshape the image data into rows\n",
    "    X_train = np.reshape(X_train, (X_train.shape[0], -1))\n",
    "    X_val = np.reshape(X_val, (X_val.shape[0], -1))\n",
    "    X_test = np.reshape(X_test, (X_test.shape[0], -1))\n",
    "    X_dev = np.reshape(X_dev, (X_dev.shape[0], -1))\n",
    "    \n",
    "    # Normalize the data: subtract the mean image\n",
    "    mean_image = np.mean(X_train, axis = 0)\n",
    "    X_train -= mean_image\n",
    "    X_val -= mean_image\n",
    "    X_test -= mean_image\n",
    "    X_dev -= mean_image\n",
    "    \n",
    "    # add bias dimension and transform into columns\n",
    "    X_train = np.hstack([X_train, np.ones((X_train.shape[0], 1))])\n",
    "    X_val = np.hstack([X_val, np.ones((X_val.shape[0], 1))])\n",
    "    X_test = np.hstack([X_test, np.ones((X_test.shape[0], 1))])\n",
    "    X_dev = np.hstack([X_dev, np.ones((X_dev.shape[0], 1))])\n",
    "    \n",
    "    return X_train, y_train, X_val, y_val, X_test, y_test, X_dev, y_dev\n",
    "\n",
    "\n",
    "# Invoke the above function to get our data.\n",
    "X_train, y_train, X_val, y_val, X_test, y_test, X_dev, y_dev = get_CIFAR10_data()\n",
    "print('Train data shape: ', X_train.shape)\n",
    "print('Train labels shape: ', y_train.shape)\n",
    "print('Validation data shape: ', X_val.shape)\n",
    "print('Validation labels shape: ', y_val.shape)\n",
    "print('Test data shape: ', X_test.shape)\n",
    "print('Test labels shape: ', y_test.shape)\n",
    "print('dev data shape: ', X_dev.shape)\n",
    "print('dev labels shape: ', y_dev.shape)"
   ]
  },
  {
   "cell_type": "markdown",
   "metadata": {},
   "source": [
    "## Softmax Classifier\n",
    "\n",
    "Your code for this section will all be written inside **cs231n/classifiers/softmax.py**. \n"
   ]
  },
  {
   "cell_type": "code",
   "execution_count": 18,
   "metadata": {},
   "outputs": [
    {
     "name": "stdout",
     "output_type": "stream",
     "text": [
      "loss: 2.310328\n",
      "sanity check: 2.302585\n"
     ]
    }
   ],
   "source": [
    "# First implement the naive softmax loss function with nested loops.\n",
    "# Open the file cs231n/classifiers/softmax.py and implement the\n",
    "# softmax_loss_naive function.\n",
    "\n",
    "from cs231n.classifiers.softmax import softmax_loss_naive\n",
    "import time\n",
    "\n",
    "# Generate a random softmax weight matrix and use it to compute the loss.\n",
    "W = np.random.randn(3073, 10) * 0.0001\n",
    "loss, grad = softmax_loss_naive(W, X_dev, y_dev, 0.0)\n",
    "\n",
    "# As a rough sanity check, our loss should be something close to -log(0.1).\n",
    "print('loss: %f' % loss)\n",
    "print('sanity check: %f' % (-np.log(0.1)))"
   ]
  },
  {
   "cell_type": "markdown",
   "metadata": {},
   "source": [
    "## Inline Question 1:\n",
    "Why do we expect our loss to be close to -log(0.1)? Explain briefly.**\n",
    "\n",
    "**Your answer:** \n",
    "It's related to the possiblity accurately predict y's class using X value. Above we're using zero weight initialization and no back propogations, and that's the reason why we called it naive_softmax. So among ten classes, the likehood of accurate prediction is 1/(# of classes) , which is 1/10. Therefore it's natural to expect -log(0.1) as our naive softmax's loss value"
   ]
  },
  {
   "cell_type": "code",
   "execution_count": 19,
   "metadata": {},
   "outputs": [
    {
     "name": "stdout",
     "output_type": "stream",
     "text": [
      "numerical: 0.355050 analytic: 0.355050, relative error: 5.922236e-08\n",
      "numerical: -0.113578 analytic: -0.113578, relative error: 7.168831e-08\n",
      "numerical: -1.402645 analytic: -1.402645, relative error: 4.092072e-08\n",
      "numerical: -1.546507 analytic: -1.546507, relative error: 9.944148e-09\n",
      "numerical: -4.242969 analytic: -4.242969, relative error: 1.198446e-08\n",
      "numerical: -0.919274 analytic: -0.919274, relative error: 1.787630e-08\n",
      "numerical: 0.177160 analytic: 0.177160, relative error: 2.447734e-07\n",
      "numerical: 1.918149 analytic: 1.918149, relative error: 1.068692e-08\n",
      "numerical: 0.175952 analytic: 0.175952, relative error: 1.245906e-07\n",
      "numerical: 1.877614 analytic: 1.877614, relative error: 2.456262e-08\n",
      "numerical: -0.239806 analytic: -0.239806, relative error: 5.196084e-08\n",
      "numerical: 3.193866 analytic: 3.193866, relative error: 2.575774e-09\n",
      "numerical: 0.737596 analytic: 0.737596, relative error: 6.011198e-08\n",
      "numerical: -1.178152 analytic: -1.178152, relative error: 2.682264e-08\n",
      "numerical: -0.538213 analytic: -0.538213, relative error: 9.518289e-08\n",
      "numerical: 1.191574 analytic: 1.191574, relative error: 4.905906e-08\n",
      "numerical: 0.194345 analytic: 0.194345, relative error: 3.833018e-07\n",
      "numerical: 2.835613 analytic: 2.835612, relative error: 3.109228e-08\n",
      "numerical: 2.634206 analytic: 2.634206, relative error: 4.763673e-08\n",
      "numerical: 3.315069 analytic: 3.315069, relative error: 8.650541e-09\n"
     ]
    }
   ],
   "source": [
    "# Complete the implementation of softmax_loss_naive and implement a (naive)\n",
    "# version of the gradient that uses nested loops.\n",
    "loss, grad = softmax_loss_naive(W, X_dev, y_dev, 0.0)\n",
    "\n",
    "# As we did for the SVM, use numeric gradient checking as a debugging tool.\n",
    "# The numeric gradient should be close to the analytic gradient.\n",
    "from cs231n.gradient_check import grad_check_sparse\n",
    "f = lambda w: softmax_loss_naive(w, X_dev, y_dev, 0.0)[0]\n",
    "grad_numerical = grad_check_sparse(f, W, grad, 10)\n",
    "\n",
    "# similar to SVM case, do another gradient check with regularization\n",
    "loss, grad = softmax_loss_naive(W, X_dev, y_dev, 5e1)\n",
    "f = lambda w: softmax_loss_naive(w, X_dev, y_dev, 5e1)[0]\n",
    "grad_numerical = grad_check_sparse(f, W, grad, 10)"
   ]
  },
  {
   "cell_type": "code",
   "execution_count": 20,
   "metadata": {},
   "outputs": [
    {
     "name": "stdout",
     "output_type": "stream",
     "text": [
      "naive loss: 2.310328e+00 computed in 0.140633s\n",
      "vectorized loss: 2.310328e+00 computed in 0.156989s\n",
      "Loss difference: 0.000000\n",
      "Gradient difference: 0.000000\n"
     ]
    }
   ],
   "source": [
    "# Now that we have a naive implementation of the softmax loss function and its gradient,\n",
    "# implement a vectorized version in softmax_loss_vectorized.\n",
    "# The two versions should compute the same results, but the vectorized version should be\n",
    "# much faster.\n",
    "tic = time.time()\n",
    "loss_naive, grad_naive = softmax_loss_naive(W, X_dev, y_dev, 0.000005)\n",
    "toc = time.time()\n",
    "print('naive loss: %e computed in %fs' % (loss_naive, toc - tic))\n",
    "\n",
    "from cs231n.classifiers.softmax import softmax_loss_vectorized\n",
    "tic = time.time()\n",
    "loss_vectorized, grad_vectorized = softmax_loss_vectorized(W, X_dev, y_dev, 0.000005)\n",
    "toc = time.time()\n",
    "print('vectorized loss: %e computed in %fs' % (loss_vectorized, toc - tic))\n",
    "\n",
    "# As we did for the SVM, we use the Frobenius norm to compare the two versions\n",
    "# of the gradient.\n",
    "grad_difference = np.linalg.norm(grad_naive - grad_vectorized, ord='fro')\n",
    "print('Loss difference: %f' % np.abs(loss_naive - loss_vectorized))\n",
    "print('Gradient difference: %f' % grad_difference)"
   ]
  },
  {
   "cell_type": "code",
   "execution_count": 25,
   "metadata": {},
   "outputs": [
    {
     "name": "stdout",
     "output_type": "stream",
     "text": [
      "iteration 0 / 2500: loss 388.406506\n",
      "iteration 100 / 2500: loss 235.028464\n",
      "iteration 200 / 2500: loss 142.948242\n",
      "iteration 300 / 2500: loss 87.217223\n",
      "iteration 400 / 2500: loss 53.545275\n",
      "iteration 500 / 2500: loss 33.115242\n",
      "iteration 600 / 2500: loss 20.927336\n",
      "iteration 700 / 2500: loss 13.422208\n",
      "iteration 800 / 2500: loss 8.925579\n",
      "iteration 900 / 2500: loss 6.184045\n",
      "iteration 1000 / 2500: loss 4.593554\n",
      "iteration 1100 / 2500: loss 3.535493\n",
      "iteration 1200 / 2500: loss 3.013821\n",
      "iteration 1300 / 2500: loss 2.520926\n",
      "iteration 1400 / 2500: loss 2.357060\n",
      "iteration 1500 / 2500: loss 2.220285\n",
      "iteration 1600 / 2500: loss 2.183843\n",
      "iteration 1700 / 2500: loss 2.047546\n",
      "iteration 1800 / 2500: loss 2.146855\n",
      "iteration 1900 / 2500: loss 2.031405\n",
      "iteration 2000 / 2500: loss 2.057266\n",
      "iteration 2100 / 2500: loss 2.018543\n",
      "iteration 2200 / 2500: loss 2.045426\n",
      "iteration 2300 / 2500: loss 1.980046\n",
      "iteration 2400 / 2500: loss 2.036121\n",
      "iteration 0 / 2500: loss 774.395454\n",
      "iteration 100 / 2500: loss 284.125148\n",
      "iteration 200 / 2500: loss 105.298499\n",
      "iteration 300 / 2500: loss 39.852171\n",
      "iteration 400 / 2500: loss 15.889673\n",
      "iteration 500 / 2500: loss 7.127509\n",
      "iteration 600 / 2500: loss 3.941458\n",
      "iteration 700 / 2500: loss 2.761534\n",
      "iteration 800 / 2500: loss 2.305632\n",
      "iteration 900 / 2500: loss 2.217916\n",
      "iteration 1000 / 2500: loss 2.100313\n",
      "iteration 1100 / 2500: loss 2.142329\n",
      "iteration 1200 / 2500: loss 2.033415\n",
      "iteration 1300 / 2500: loss 2.183287\n",
      "iteration 1400 / 2500: loss 2.044378\n",
      "iteration 1500 / 2500: loss 2.079695\n",
      "iteration 1600 / 2500: loss 2.039204\n",
      "iteration 1700 / 2500: loss 2.080061\n",
      "iteration 1800 / 2500: loss 2.023492\n",
      "iteration 1900 / 2500: loss 2.105894\n",
      "iteration 2000 / 2500: loss 2.077337\n",
      "iteration 2100 / 2500: loss 2.037407\n",
      "iteration 2200 / 2500: loss 2.126157\n",
      "iteration 2300 / 2500: loss 2.040881\n",
      "iteration 2400 / 2500: loss 2.059533\n",
      "iteration 0 / 2500: loss 384.851667\n",
      "iteration 100 / 2500: loss 32.517992\n",
      "iteration 200 / 2500: loss 4.510486\n",
      "iteration 300 / 2500: loss 2.237549\n",
      "iteration 400 / 2500: loss 1.947899\n",
      "iteration 500 / 2500: loss 2.058669\n",
      "iteration 600 / 2500: loss 2.064111\n",
      "iteration 700 / 2500: loss 1.987337\n",
      "iteration 800 / 2500: loss 2.024251\n",
      "iteration 900 / 2500: loss 2.034737\n",
      "iteration 1000 / 2500: loss 2.068200\n",
      "iteration 1100 / 2500: loss 1.978457\n",
      "iteration 1200 / 2500: loss 2.037671\n",
      "iteration 1300 / 2500: loss 1.936216\n",
      "iteration 1400 / 2500: loss 1.981399\n",
      "iteration 1500 / 2500: loss 2.063999\n",
      "iteration 1600 / 2500: loss 2.048288\n",
      "iteration 1700 / 2500: loss 2.101898\n",
      "iteration 1800 / 2500: loss 2.073967\n",
      "iteration 1900 / 2500: loss 2.014698\n",
      "iteration 2000 / 2500: loss 1.973149\n",
      "iteration 2100 / 2500: loss 2.092205\n",
      "iteration 2200 / 2500: loss 2.018496\n",
      "iteration 2300 / 2500: loss 1.976942\n",
      "iteration 2400 / 2500: loss 2.088976\n",
      "iteration 0 / 2500: loss 761.429137\n",
      "iteration 100 / 2500: loss 6.822948\n",
      "iteration 200 / 2500: loss 2.170359\n",
      "iteration 300 / 2500: loss 2.103176\n",
      "iteration 400 / 2500: loss 2.058047\n",
      "iteration 500 / 2500: loss 2.104696\n",
      "iteration 600 / 2500: loss 2.131563\n",
      "iteration 700 / 2500: loss 2.159882\n",
      "iteration 800 / 2500: loss 2.064492\n",
      "iteration 900 / 2500: loss 2.082893\n",
      "iteration 1000 / 2500: loss 2.031347\n",
      "iteration 1100 / 2500: loss 2.125866\n",
      "iteration 1200 / 2500: loss 2.063058\n",
      "iteration 1300 / 2500: loss 2.112067\n",
      "iteration 1400 / 2500: loss 2.087109\n",
      "iteration 1500 / 2500: loss 2.041658\n",
      "iteration 1600 / 2500: loss 2.106262\n",
      "iteration 1700 / 2500: loss 2.042768\n",
      "iteration 1800 / 2500: loss 2.083157\n",
      "iteration 1900 / 2500: loss 2.112754\n",
      "iteration 2000 / 2500: loss 2.103929\n",
      "iteration 2100 / 2500: loss 2.095090\n",
      "iteration 2200 / 2500: loss 2.062141\n",
      "iteration 2300 / 2500: loss 2.074946\n",
      "iteration 2400 / 2500: loss 2.064752\n",
      "lr 1.000000e-07 reg 2.500000e+04 train accuracy: 0.352020 val accuracy: 0.362000\n",
      "lr 1.000000e-07 reg 5.000000e+04 train accuracy: 0.326000 val accuracy: 0.340000\n",
      "lr 5.000000e-07 reg 2.500000e+04 train accuracy: 0.347633 val accuracy: 0.361000\n",
      "lr 5.000000e-07 reg 5.000000e+04 train accuracy: 0.328163 val accuracy: 0.351000\n",
      "best validation accuracy achieved during cross-validation: 0.362000\n"
     ]
    }
   ],
   "source": [
    "# Use the validation set to tune hyperparameters (regularization strength and\n",
    "# learning rate). You should experiment with different ranges for the learning\n",
    "# rates and regularization strengths; if you are careful you should be able to\n",
    "# get a classification accuracy of over 0.35 on the validation set.\n",
    "from cs231n.classifiers import Softmax\n",
    "results = {}\n",
    "best_val = -1\n",
    "best_softmax = None\n",
    "learning_rates = [1e-7, 5e-7]\n",
    "regularization_strengths = [2.5e4, 5e4]\n",
    "\n",
    "for lr in learning_rates:\n",
    "    for reg in regularization_strengths:\n",
    "        softmax = Softmax()\n",
    "        loss_hist = softmax.train(X_train, y_train, learning_rate=lr, reg=reg,\n",
    "                      num_iters=2500, verbose=True)\n",
    "        Training_accuracy = np.mean(y_train == softmax.predict(X_train))\n",
    "        Validation_accuracy = np.mean(y_val == softmax.predict(X_val))\n",
    "        results[(lr,reg)] = ((Training_accuracy, Validation_accuracy))\n",
    "        \n",
    "        if Validation_accuracy > best_val:\n",
    "            best_val = Validation_accuracy\n",
    "            best_softmax = softmax\n",
    "\n",
    "\n",
    "################################################################################\n",
    "# TODO:                                                                        #\n",
    "# Use the validation set to set the learning rate and regularization strength. #\n",
    "# This should be identical to the validation that you did for the SVM; save    #\n",
    "# the best trained softmax classifer in best_softmax.                          #\n",
    "################################################################################\n",
    "pass\n",
    "################################################################################\n",
    "#                              END OF YOUR CODE                                #\n",
    "################################################################################\n",
    "    \n",
    "# Print out results.\n",
    "for lr, reg in sorted(results):\n",
    "    train_accuracy, val_accuracy = results[(lr, reg)]\n",
    "    print('lr %e reg %e train accuracy: %f val accuracy: %f' % (\n",
    "                lr, reg, train_accuracy, val_accuracy))\n",
    "    \n",
    "print('best validation accuracy achieved during cross-validation: %f' % best_val)"
   ]
  },
  {
   "cell_type": "code",
   "execution_count": 24,
   "metadata": {},
   "outputs": [
    {
     "name": "stdout",
     "output_type": "stream",
     "text": [
      "softmax on raw pixels final test set accuracy: 0.357000\n"
     ]
    }
   ],
   "source": [
    "# evaluate on test set\n",
    "# Evaluate the best softmax on test set\n",
    "y_test_pred = best_softmax.predict(X_test)\n",
    "test_accuracy = np.mean(y_test == y_test_pred)\n",
    "print('softmax on raw pixels final test set accuracy: %f' % (test_accuracy, ))"
   ]
  },
  {
   "cell_type": "code",
   "execution_count": 23,
   "metadata": {},
   "outputs": [
    {
     "data": {
      "image/png": "[encoded data removed]",
      "text/plain": [
       "<matplotlib.figure.Figure at 0x19480cddc88>"
      ]
     },
     "metadata": {},
     "output_type": "display_data"
    }
   ],
   "source": [
    "# Visualize the learned weights for each class\n",
    "w = best_softmax.W[:-1,:] # strip out the bias\n",
    "w = w.reshape(32, 32, 3, 10)\n",
    "\n",
    "w_min, w_max = np.min(w), np.max(w)\n",
    "\n",
    "classes = ['plane', 'car', 'bird', 'cat', 'deer', 'dog', 'frog', 'horse', 'ship', 'truck']\n",
    "for i in range(10):\n",
    "    plt.subplot(2, 5, i + 1)\n",
    "    \n",
    "    # Rescale the weights to be between 0 and 255\n",
    "    wimg = 255.0 * (w[:, :, :, i].squeeze() - w_min) / (w_max - w_min)\n",
    "    plt.imshow(wimg.astype('uint8'))\n",
    "    plt.axis('off')\n",
    "    plt.title(classes[i])"
   ]
  }
 ],
 "metadata": {
  "kernelspec": {
   "display_name": "Python 3",
   "language": "python",
   "name": "python3"
  },
  "language_info": {
   "codemirror_mode": {
    "name": "ipython",
    "version": 3
   },
   "file_extension": ".py",
   "mimetype": "text/x-python",
   "name": "python",
   "nbconvert_exporter": "python",
   "pygments_lexer": "ipython3",
   "version": "3.6.3"
  }
 },
 "nbformat": 4,
 "nbformat_minor": 1
}
